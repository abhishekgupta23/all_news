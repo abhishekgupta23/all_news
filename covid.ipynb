{
 "metadata": {
  "language_info": {
   "codemirror_mode": {
    "name": "ipython",
    "version": 3
   },
   "file_extension": ".py",
   "mimetype": "text/x-python",
   "name": "python",
   "nbconvert_exporter": "python",
   "pygments_lexer": "ipython3",
   "version": "3.9.2"
  },
  "orig_nbformat": 2,
  "kernelspec": {
   "name": "python392jvsc74a57bd0b60f0d460acb6dba55b59e0c02e065938af200260504bb86996fce43acb12fe9",
   "display_name": "Python 3.9.2 64-bit"
  },
  "metadata": {
   "interpreter": {
    "hash": "b60f0d460acb6dba55b59e0c02e065938af200260504bb86996fce43acb12fe9"
   }
  }
 },
 "nbformat": 4,
 "nbformat_minor": 2,
 "cells": [
  {
   "cell_type": "code",
   "execution_count": 38,
   "metadata": {},
   "outputs": [],
   "source": [
    "\n",
    "from bs4 import BeautifulSoup\n",
    "import requests\n",
    "import pandas as pd\n",
    "import re"
   ]
  },
  {
   "cell_type": "code",
   "execution_count": 39,
   "metadata": {},
   "outputs": [],
   "source": [
    "url = 'https://news.google.com/covid19/map?hl=en-IN&mid=%2Fm%2F03rk0&gl=IN&ceid=IN%3Aen'"
   ]
  },
  {
   "cell_type": "code",
   "execution_count": 40,
   "metadata": {},
   "outputs": [],
   "source": [
    "try:\n",
    "    data = requests.get(url)\n",
    "except Exception as e:\n",
    "    print(e)\n",
    "    print('some error occured')"
   ]
  },
  {
   "cell_type": "code",
   "execution_count": 41,
   "metadata": {},
   "outputs": [
    {
     "output_type": "stream",
     "name": "stdout",
     "text": [
      "Status :  200\n"
     ]
    }
   ],
   "source": [
    "code = data.status_code\n",
    "print('Status : ', code)\n",
    "if code == 200:\n",
    "    \n",
    "    text = data.text\n",
    "else:\n",
    "    print('data not recieved')"
   ]
  },
  {
   "cell_type": "code",
   "execution_count": 42,
   "metadata": {},
   "outputs": [],
   "source": [
    "soup = BeautifulSoup(text)"
   ]
  },
  {
   "cell_type": "code",
   "execution_count": 43,
   "metadata": {},
   "outputs": [],
   "source": [
    "state = soup.find_all('div',attrs={'class':'RbBDcc'})\n",
    "g=[]\n",
    "for u in state:\n",
    "    h={}\n",
    "    h=u.text\n",
    "    g.append(h)"
   ]
  },
  {
   "cell_type": "code",
   "execution_count": 44,
   "metadata": {},
   "outputs": [
    {
     "output_type": "execute_result",
     "data": {
      "text/plain": [
       "['Total cases',\n",
       " 'New cases (14 days)',\n",
       " 'Deaths',\n",
       " 'Total doses given',\n",
       " 'New doses given (14 days)',\n",
       " 'People fully vaccinated']"
      ]
     },
     "metadata": {},
     "execution_count": 44
    }
   ],
   "source": [
    "g"
   ]
  },
  {
   "cell_type": "code",
   "execution_count": 45,
   "metadata": {},
   "outputs": [],
   "source": [
    "g.remove('New doses given (14 days)')"
   ]
  },
  {
   "cell_type": "code",
   "execution_count": null,
   "metadata": {},
   "outputs": [],
   "source": []
  },
  {
   "cell_type": "code",
   "execution_count": 46,
   "metadata": {},
   "outputs": [],
   "source": [
    "state1 = soup.find_all('div',attrs={'class':'UvMayb'})\n"
   ]
  },
  {
   "cell_type": "code",
   "execution_count": 47,
   "metadata": {},
   "outputs": [],
   "source": [
    "rows = soup.find_all('div', attrs={ 'class' : 'pcAJd' })\n",
    "row = soup.find_all('td',attrs={'class':'l3HOY'})"
   ]
  },
  {
   "cell_type": "code",
   "execution_count": 48,
   "metadata": {},
   "outputs": [
    {
     "output_type": "stream",
     "name": "stdout",
     "text": [
      "Maharashtra\nKarnataka\nKerala\nUttar Pradesh\nTamil Nadu\nDelhi\nAndhra Pradesh\nWest Bengal\nChhattisgarh\nRajasthan\nGujarat\nMadhya Pradesh\nHaryana\nBihar\nOdisha\nTelangana\nPunjab\nAssam\nJharkhand\nUttarakhand\nJammu and Kashmir\nHimachal Pradesh\nGoa\nPuducherry\nChandigarh\nTripura\nManipur\nMeghalaya\nArunachal Pradesh\nNagaland\nLadakh\nSikkim\nDadra and Nagar Haveli and Daman and Diu\nMizoram\nAndaman and Nicobar Islands\nLakshadweep\n"
     ]
    }
   ],
   "source": [
    "for r in rows[2:]:\n",
    "    \n",
    "    print( r.text)"
   ]
  },
  {
   "cell_type": "code",
   "execution_count": 49,
   "metadata": {},
   "outputs": [
    {
     "output_type": "stream",
     "name": "stdout",
     "text": [
      "51,79,929\n40,956\n\n45,365\n77,191\n20,13,193\n39,510\n\n31,429\n19,852\n19,67,405\n37,290\n\n56,812\n5,958\n15,45,212\n20,445\n\n7,565\n16,043\n14,38,509\n29,272\n\n21,198\n16,178\n13,48,699\n12,481\n\n71,048\n20,010\n13,22,934\n20,345\n\n26,787\n8,899\n10,32,740\n20,136\n\n11,434\n12,593\n8,73,060\n9,717\n\n29,659\n10,941\n7,89,274\n16,080\n\n11,457\n5,994\n7,03,594\n10,990\n\n11,222\n8,629\n6,91,232\n9,754\n\n9,425\n6,595\n6,40,252\n11,637\n\n25,253\n5,910\n6,12,570\n10,920\n\n6,186\n3,429\n5,54,666\n9,793\n\n12,685\n2,215\n5,06,988\n4,801\n\n14,406\n2,803\n4,59,268\n8,594\n\n16,414\n10,918\n3,04,429\n6,258\n\n9,838\n1,838\n2,96,895\n4,365\n\n9,306\n4,085\n2,56,934\n7,120\n\n25,479\n4,014\n2,24,898\n4,352\n\n17,922\n2,847\n1,40,759\n4,977\n\n20,531\n2,002\n1,24,774\n3,124\n\n68,670\n1,804\n75,024\n2,049\n\n53,801\n1,018\n51,857\n787\n\n49,133\n585\n38,574\n416\n\n10,545\n422\n36,370\n592\n\n13,363\n509\n20,579\n450\n\n7,763\n242\n20,575\n205\n\n16,394\n68\n16,552\n269\n\n7,276\n156\n15,564\n135\n\n56,743\n157\n10,165\n241\n\n16,422\n177\n9,021\n93\n\n15,400\n4\n8,035\n239\n\n7,202\n23\n6,426\n28\n\n14,800\n78\n3,982\n101\n\n61,804\n10\n"
     ]
    }
   ],
   "source": [
    "a=[]\n",
    "for d in row[10:]:\n",
    "    print(d.text)\n",
    "    details = {}\n",
    "    details =d.text\n",
    "    a.append(details)"
   ]
  },
  {
   "cell_type": "code",
   "execution_count": 50,
   "metadata": {},
   "outputs": [],
   "source": [
    "b=[]\n",
    "for i in a[::5]:\n",
    "    f={}\n",
    "    f=i\n",
    "    b.append(f)"
   ]
  },
  {
   "cell_type": "code",
   "execution_count": 51,
   "metadata": {},
   "outputs": [],
   "source": [
    "p=[]\n",
    "for t in a[1::5]:\n",
    "    w={}\n",
    "    w=t\n",
    "    p.append(w)"
   ]
  },
  {
   "cell_type": "code",
   "execution_count": 52,
   "metadata": {},
   "outputs": [],
   "source": [
    "q=[]\n",
    "for m in a[4::5]:\n",
    "    v={}\n",
    "    v=m\n",
    "    q.append(v)"
   ]
  },
  {
   "cell_type": "code",
   "execution_count": 53,
   "metadata": {},
   "outputs": [
    {
     "output_type": "execute_result",
     "data": {
      "text/plain": [
       "['77,191',\n",
       " '19,852',\n",
       " '5,958',\n",
       " '16,043',\n",
       " '16,178',\n",
       " '20,010',\n",
       " '8,899',\n",
       " '12,593',\n",
       " '10,941',\n",
       " '5,994',\n",
       " '8,629',\n",
       " '6,595',\n",
       " '5,910',\n",
       " '3,429',\n",
       " '2,215',\n",
       " '2,803',\n",
       " '10,918',\n",
       " '1,838',\n",
       " '4,085',\n",
       " '4,014',\n",
       " '2,847',\n",
       " '2,002',\n",
       " '1,804',\n",
       " '1,018',\n",
       " '585',\n",
       " '422',\n",
       " '509',\n",
       " '242',\n",
       " '68',\n",
       " '156',\n",
       " '157',\n",
       " '177',\n",
       " '4',\n",
       " '23',\n",
       " '78',\n",
       " '10']"
      ]
     },
     "metadata": {},
     "execution_count": 53
    }
   ],
   "source": [
    "q"
   ]
  },
  {
   "cell_type": "code",
   "execution_count": 54,
   "metadata": {},
   "outputs": [],
   "source": [
    "def s(n):\n",
    "    for j in b[0:n]:\n",
    "        x=j\n",
    "    return x\n",
    "def l(f):\n",
    "    for j in p[0:f]:\n",
    "        x=j\n",
    "    return x\n",
    "def n(f):\n",
    "    for j in q[0:f]:\n",
    "        x=j\n",
    "    return x"
   ]
  },
  {
   "cell_type": "code",
   "execution_count": 55,
   "metadata": {},
   "outputs": [],
   "source": [
    "covid_data=[]\n",
    "k=1\n",
    "for r in rows[2:]:\n",
    "    data={}\n",
    "    z=s(k)\n",
    "    y=l(k)\n",
    "    o=n(k)\n",
    "    k=k+1\n",
    "    data['States'] =r.text\n",
    "    data['Total cases']=z\n",
    "    data['New cases (1 day*)'] = y\n",
    "    data['deaths'] = o\n",
    "    covid_data.append(data)"
   ]
  },
  {
   "cell_type": "code",
   "execution_count": 56,
   "metadata": {},
   "outputs": [
    {
     "output_type": "execute_result",
     "data": {
      "text/plain": [
       "                                      States Total cases New cases (1 day*)  \\\n",
       "0                                Maharashtra   51,79,929             40,956   \n",
       "1                                  Karnataka   20,13,193             39,510   \n",
       "2                                     Kerala   19,67,405             37,290   \n",
       "3                              Uttar Pradesh   15,45,212             20,445   \n",
       "4                                 Tamil Nadu   14,38,509             29,272   \n",
       "5                                      Delhi   13,48,699             12,481   \n",
       "6                             Andhra Pradesh   13,22,934             20,345   \n",
       "7                                West Bengal   10,32,740             20,136   \n",
       "8                               Chhattisgarh    8,73,060              9,717   \n",
       "9                                  Rajasthan    7,89,274             16,080   \n",
       "10                                   Gujarat    7,03,594             10,990   \n",
       "11                            Madhya Pradesh    6,91,232              9,754   \n",
       "12                                   Haryana    6,40,252             11,637   \n",
       "13                                     Bihar    6,12,570             10,920   \n",
       "14                                    Odisha    5,54,666              9,793   \n",
       "15                                 Telangana    5,06,988              4,801   \n",
       "16                                    Punjab    4,59,268              8,594   \n",
       "17                                     Assam    3,04,429              6,258   \n",
       "18                                 Jharkhand    2,96,895              4,365   \n",
       "19                               Uttarakhand    2,56,934              7,120   \n",
       "20                         Jammu and Kashmir    2,24,898              4,352   \n",
       "21                          Himachal Pradesh    1,40,759              4,977   \n",
       "22                                       Goa    1,24,774              3,124   \n",
       "23                                Puducherry      75,024              2,049   \n",
       "24                                Chandigarh      51,857                787   \n",
       "25                                   Tripura      38,574                416   \n",
       "26                                   Manipur      36,370                592   \n",
       "27                                 Meghalaya      20,579                450   \n",
       "28                         Arunachal Pradesh      20,575                205   \n",
       "29                                  Nagaland      16,552                269   \n",
       "30                                    Ladakh      15,564                135   \n",
       "31                                    Sikkim      10,165                241   \n",
       "32  Dadra and Nagar Haveli and Daman and Diu       9,021                 93   \n",
       "33                                   Mizoram       8,035                239   \n",
       "34               Andaman and Nicobar Islands       6,426                 28   \n",
       "35                               Lakshadweep       3,982                101   \n",
       "\n",
       "    deaths  \n",
       "0   77,191  \n",
       "1   19,852  \n",
       "2    5,958  \n",
       "3   16,043  \n",
       "4   16,178  \n",
       "5   20,010  \n",
       "6    8,899  \n",
       "7   12,593  \n",
       "8   10,941  \n",
       "9    5,994  \n",
       "10   8,629  \n",
       "11   6,595  \n",
       "12   5,910  \n",
       "13   3,429  \n",
       "14   2,215  \n",
       "15   2,803  \n",
       "16  10,918  \n",
       "17   1,838  \n",
       "18   4,085  \n",
       "19   4,014  \n",
       "20   2,847  \n",
       "21   2,002  \n",
       "22   1,804  \n",
       "23   1,018  \n",
       "24     585  \n",
       "25     422  \n",
       "26     509  \n",
       "27     242  \n",
       "28      68  \n",
       "29     156  \n",
       "30     157  \n",
       "31     177  \n",
       "32       4  \n",
       "33      23  \n",
       "34      78  \n",
       "35      10  "
      ],
      "text/html": "<div>\n<style scoped>\n    .dataframe tbody tr th:only-of-type {\n        vertical-align: middle;\n    }\n\n    .dataframe tbody tr th {\n        vertical-align: top;\n    }\n\n    .dataframe thead th {\n        text-align: right;\n    }\n</style>\n<table border=\"1\" class=\"dataframe\">\n  <thead>\n    <tr style=\"text-align: right;\">\n      <th></th>\n      <th>States</th>\n      <th>Total cases</th>\n      <th>New cases (1 day*)</th>\n      <th>deaths</th>\n    </tr>\n  </thead>\n  <tbody>\n    <tr>\n      <th>0</th>\n      <td>Maharashtra</td>\n      <td>51,79,929</td>\n      <td>40,956</td>\n      <td>77,191</td>\n    </tr>\n    <tr>\n      <th>1</th>\n      <td>Karnataka</td>\n      <td>20,13,193</td>\n      <td>39,510</td>\n      <td>19,852</td>\n    </tr>\n    <tr>\n      <th>2</th>\n      <td>Kerala</td>\n      <td>19,67,405</td>\n      <td>37,290</td>\n      <td>5,958</td>\n    </tr>\n    <tr>\n      <th>3</th>\n      <td>Uttar Pradesh</td>\n      <td>15,45,212</td>\n      <td>20,445</td>\n      <td>16,043</td>\n    </tr>\n    <tr>\n      <th>4</th>\n      <td>Tamil Nadu</td>\n      <td>14,38,509</td>\n      <td>29,272</td>\n      <td>16,178</td>\n    </tr>\n    <tr>\n      <th>5</th>\n      <td>Delhi</td>\n      <td>13,48,699</td>\n      <td>12,481</td>\n      <td>20,010</td>\n    </tr>\n    <tr>\n      <th>6</th>\n      <td>Andhra Pradesh</td>\n      <td>13,22,934</td>\n      <td>20,345</td>\n      <td>8,899</td>\n    </tr>\n    <tr>\n      <th>7</th>\n      <td>West Bengal</td>\n      <td>10,32,740</td>\n      <td>20,136</td>\n      <td>12,593</td>\n    </tr>\n    <tr>\n      <th>8</th>\n      <td>Chhattisgarh</td>\n      <td>8,73,060</td>\n      <td>9,717</td>\n      <td>10,941</td>\n    </tr>\n    <tr>\n      <th>9</th>\n      <td>Rajasthan</td>\n      <td>7,89,274</td>\n      <td>16,080</td>\n      <td>5,994</td>\n    </tr>\n    <tr>\n      <th>10</th>\n      <td>Gujarat</td>\n      <td>7,03,594</td>\n      <td>10,990</td>\n      <td>8,629</td>\n    </tr>\n    <tr>\n      <th>11</th>\n      <td>Madhya Pradesh</td>\n      <td>6,91,232</td>\n      <td>9,754</td>\n      <td>6,595</td>\n    </tr>\n    <tr>\n      <th>12</th>\n      <td>Haryana</td>\n      <td>6,40,252</td>\n      <td>11,637</td>\n      <td>5,910</td>\n    </tr>\n    <tr>\n      <th>13</th>\n      <td>Bihar</td>\n      <td>6,12,570</td>\n      <td>10,920</td>\n      <td>3,429</td>\n    </tr>\n    <tr>\n      <th>14</th>\n      <td>Odisha</td>\n      <td>5,54,666</td>\n      <td>9,793</td>\n      <td>2,215</td>\n    </tr>\n    <tr>\n      <th>15</th>\n      <td>Telangana</td>\n      <td>5,06,988</td>\n      <td>4,801</td>\n      <td>2,803</td>\n    </tr>\n    <tr>\n      <th>16</th>\n      <td>Punjab</td>\n      <td>4,59,268</td>\n      <td>8,594</td>\n      <td>10,918</td>\n    </tr>\n    <tr>\n      <th>17</th>\n      <td>Assam</td>\n      <td>3,04,429</td>\n      <td>6,258</td>\n      <td>1,838</td>\n    </tr>\n    <tr>\n      <th>18</th>\n      <td>Jharkhand</td>\n      <td>2,96,895</td>\n      <td>4,365</td>\n      <td>4,085</td>\n    </tr>\n    <tr>\n      <th>19</th>\n      <td>Uttarakhand</td>\n      <td>2,56,934</td>\n      <td>7,120</td>\n      <td>4,014</td>\n    </tr>\n    <tr>\n      <th>20</th>\n      <td>Jammu and Kashmir</td>\n      <td>2,24,898</td>\n      <td>4,352</td>\n      <td>2,847</td>\n    </tr>\n    <tr>\n      <th>21</th>\n      <td>Himachal Pradesh</td>\n      <td>1,40,759</td>\n      <td>4,977</td>\n      <td>2,002</td>\n    </tr>\n    <tr>\n      <th>22</th>\n      <td>Goa</td>\n      <td>1,24,774</td>\n      <td>3,124</td>\n      <td>1,804</td>\n    </tr>\n    <tr>\n      <th>23</th>\n      <td>Puducherry</td>\n      <td>75,024</td>\n      <td>2,049</td>\n      <td>1,018</td>\n    </tr>\n    <tr>\n      <th>24</th>\n      <td>Chandigarh</td>\n      <td>51,857</td>\n      <td>787</td>\n      <td>585</td>\n    </tr>\n    <tr>\n      <th>25</th>\n      <td>Tripura</td>\n      <td>38,574</td>\n      <td>416</td>\n      <td>422</td>\n    </tr>\n    <tr>\n      <th>26</th>\n      <td>Manipur</td>\n      <td>36,370</td>\n      <td>592</td>\n      <td>509</td>\n    </tr>\n    <tr>\n      <th>27</th>\n      <td>Meghalaya</td>\n      <td>20,579</td>\n      <td>450</td>\n      <td>242</td>\n    </tr>\n    <tr>\n      <th>28</th>\n      <td>Arunachal Pradesh</td>\n      <td>20,575</td>\n      <td>205</td>\n      <td>68</td>\n    </tr>\n    <tr>\n      <th>29</th>\n      <td>Nagaland</td>\n      <td>16,552</td>\n      <td>269</td>\n      <td>156</td>\n    </tr>\n    <tr>\n      <th>30</th>\n      <td>Ladakh</td>\n      <td>15,564</td>\n      <td>135</td>\n      <td>157</td>\n    </tr>\n    <tr>\n      <th>31</th>\n      <td>Sikkim</td>\n      <td>10,165</td>\n      <td>241</td>\n      <td>177</td>\n    </tr>\n    <tr>\n      <th>32</th>\n      <td>Dadra and Nagar Haveli and Daman and Diu</td>\n      <td>9,021</td>\n      <td>93</td>\n      <td>4</td>\n    </tr>\n    <tr>\n      <th>33</th>\n      <td>Mizoram</td>\n      <td>8,035</td>\n      <td>239</td>\n      <td>23</td>\n    </tr>\n    <tr>\n      <th>34</th>\n      <td>Andaman and Nicobar Islands</td>\n      <td>6,426</td>\n      <td>28</td>\n      <td>78</td>\n    </tr>\n    <tr>\n      <th>35</th>\n      <td>Lakshadweep</td>\n      <td>3,982</td>\n      <td>101</td>\n      <td>10</td>\n    </tr>\n  </tbody>\n</table>\n</div>"
     },
     "metadata": {},
     "execution_count": 56
    }
   ],
   "source": [
    "df = pd.DataFrame(covid_data)\n",
    "df\n"
   ]
  },
  {
   "cell_type": "code",
   "execution_count": 57,
   "metadata": {},
   "outputs": [],
   "source": [
    "import plotly.express as px"
   ]
  },
  {
   "cell_type": "code",
   "execution_count": 58,
   "metadata": {},
   "outputs": [
    {
     "output_type": "display_data",
     "data": {
      "application/vnd.plotly.v1+json": {
       "config": {
        "plotlyServerURL": "https://plot.ly"
       },
       "data": [
        {
         "alignmentgroup": "True",
         "hovertemplate": "States=%{x}<br>Total cases=%{y}<extra></extra>",
         "legendgroup": "",
         "marker": {
          "color": "#636efa"
         },
         "name": "",
         "offsetgroup": "",
         "orientation": "v",
         "showlegend": false,
         "textposition": "auto",
         "type": "bar",
         "x": [
          "Maharashtra",
          "Karnataka",
          "Kerala",
          "Uttar Pradesh",
          "Tamil Nadu",
          "Delhi",
          "Andhra Pradesh",
          "West Bengal",
          "Chhattisgarh",
          "Rajasthan",
          "Gujarat",
          "Madhya Pradesh",
          "Haryana",
          "Bihar",
          "Odisha",
          "Telangana",
          "Punjab",
          "Assam",
          "Jharkhand",
          "Uttarakhand",
          "Jammu and Kashmir",
          "Himachal Pradesh",
          "Goa",
          "Puducherry",
          "Chandigarh",
          "Tripura",
          "Manipur",
          "Meghalaya",
          "Arunachal Pradesh",
          "Nagaland",
          "Ladakh",
          "Sikkim",
          "Dadra and Nagar Haveli and Daman and Diu",
          "Mizoram",
          "Andaman and Nicobar Islands",
          "Lakshadweep"
         ],
         "xaxis": "x",
         "y": [
          "51,79,929",
          "20,13,193",
          "19,67,405",
          "15,45,212",
          "14,38,509",
          "13,48,699",
          "13,22,934",
          "10,32,740",
          "8,73,060",
          "7,89,274",
          "7,03,594",
          "6,91,232",
          "6,40,252",
          "6,12,570",
          "5,54,666",
          "5,06,988",
          "4,59,268",
          "3,04,429",
          "2,96,895",
          "2,56,934",
          "2,24,898",
          "1,40,759",
          "1,24,774",
          "75,024",
          "51,857",
          "38,574",
          "36,370",
          "20,579",
          "20,575",
          "16,552",
          "15,564",
          "10,165",
          "9,021",
          "8,035",
          "6,426",
          "3,982"
         ],
         "yaxis": "y"
        }
       ],
       "layout": {
        "barmode": "relative",
        "legend": {
         "tracegroupgap": 0
        },
        "margin": {
         "t": 60
        },
        "template": {
         "data": {
          "bar": [
           {
            "error_x": {
             "color": "#2a3f5f"
            },
            "error_y": {
             "color": "#2a3f5f"
            },
            "marker": {
             "line": {
              "color": "#E5ECF6",
              "width": 0.5
             }
            },
            "type": "bar"
           }
          ],
          "barpolar": [
           {
            "marker": {
             "line": {
              "color": "#E5ECF6",
              "width": 0.5
             }
            },
            "type": "barpolar"
           }
          ],
          "carpet": [
           {
            "aaxis": {
             "endlinecolor": "#2a3f5f",
             "gridcolor": "white",
             "linecolor": "white",
             "minorgridcolor": "white",
             "startlinecolor": "#2a3f5f"
            },
            "baxis": {
             "endlinecolor": "#2a3f5f",
             "gridcolor": "white",
             "linecolor": "white",
             "minorgridcolor": "white",
             "startlinecolor": "#2a3f5f"
            },
            "type": "carpet"
           }
          ],
          "choropleth": [
           {
            "colorbar": {
             "outlinewidth": 0,
             "ticks": ""
            },
            "type": "choropleth"
           }
          ],
          "contour": [
           {
            "colorbar": {
             "outlinewidth": 0,
             "ticks": ""
            },
            "colorscale": [
             [
              0,
              "#0d0887"
             ],
             [
              0.1111111111111111,
              "#46039f"
             ],
             [
              0.2222222222222222,
              "#7201a8"
             ],
             [
              0.3333333333333333,
              "#9c179e"
             ],
             [
              0.4444444444444444,
              "#bd3786"
             ],
             [
              0.5555555555555556,
              "#d8576b"
             ],
             [
              0.6666666666666666,
              "#ed7953"
             ],
             [
              0.7777777777777778,
              "#fb9f3a"
             ],
             [
              0.8888888888888888,
              "#fdca26"
             ],
             [
              1,
              "#f0f921"
             ]
            ],
            "type": "contour"
           }
          ],
          "contourcarpet": [
           {
            "colorbar": {
             "outlinewidth": 0,
             "ticks": ""
            },
            "type": "contourcarpet"
           }
          ],
          "heatmap": [
           {
            "colorbar": {
             "outlinewidth": 0,
             "ticks": ""
            },
            "colorscale": [
             [
              0,
              "#0d0887"
             ],
             [
              0.1111111111111111,
              "#46039f"
             ],
             [
              0.2222222222222222,
              "#7201a8"
             ],
             [
              0.3333333333333333,
              "#9c179e"
             ],
             [
              0.4444444444444444,
              "#bd3786"
             ],
             [
              0.5555555555555556,
              "#d8576b"
             ],
             [
              0.6666666666666666,
              "#ed7953"
             ],
             [
              0.7777777777777778,
              "#fb9f3a"
             ],
             [
              0.8888888888888888,
              "#fdca26"
             ],
             [
              1,
              "#f0f921"
             ]
            ],
            "type": "heatmap"
           }
          ],
          "heatmapgl": [
           {
            "colorbar": {
             "outlinewidth": 0,
             "ticks": ""
            },
            "colorscale": [
             [
              0,
              "#0d0887"
             ],
             [
              0.1111111111111111,
              "#46039f"
             ],
             [
              0.2222222222222222,
              "#7201a8"
             ],
             [
              0.3333333333333333,
              "#9c179e"
             ],
             [
              0.4444444444444444,
              "#bd3786"
             ],
             [
              0.5555555555555556,
              "#d8576b"
             ],
             [
              0.6666666666666666,
              "#ed7953"
             ],
             [
              0.7777777777777778,
              "#fb9f3a"
             ],
             [
              0.8888888888888888,
              "#fdca26"
             ],
             [
              1,
              "#f0f921"
             ]
            ],
            "type": "heatmapgl"
           }
          ],
          "histogram": [
           {
            "marker": {
             "colorbar": {
              "outlinewidth": 0,
              "ticks": ""
             }
            },
            "type": "histogram"
           }
          ],
          "histogram2d": [
           {
            "colorbar": {
             "outlinewidth": 0,
             "ticks": ""
            },
            "colorscale": [
             [
              0,
              "#0d0887"
             ],
             [
              0.1111111111111111,
              "#46039f"
             ],
             [
              0.2222222222222222,
              "#7201a8"
             ],
             [
              0.3333333333333333,
              "#9c179e"
             ],
             [
              0.4444444444444444,
              "#bd3786"
             ],
             [
              0.5555555555555556,
              "#d8576b"
             ],
             [
              0.6666666666666666,
              "#ed7953"
             ],
             [
              0.7777777777777778,
              "#fb9f3a"
             ],
             [
              0.8888888888888888,
              "#fdca26"
             ],
             [
              1,
              "#f0f921"
             ]
            ],
            "type": "histogram2d"
           }
          ],
          "histogram2dcontour": [
           {
            "colorbar": {
             "outlinewidth": 0,
             "ticks": ""
            },
            "colorscale": [
             [
              0,
              "#0d0887"
             ],
             [
              0.1111111111111111,
              "#46039f"
             ],
             [
              0.2222222222222222,
              "#7201a8"
             ],
             [
              0.3333333333333333,
              "#9c179e"
             ],
             [
              0.4444444444444444,
              "#bd3786"
             ],
             [
              0.5555555555555556,
              "#d8576b"
             ],
             [
              0.6666666666666666,
              "#ed7953"
             ],
             [
              0.7777777777777778,
              "#fb9f3a"
             ],
             [
              0.8888888888888888,
              "#fdca26"
             ],
             [
              1,
              "#f0f921"
             ]
            ],
            "type": "histogram2dcontour"
           }
          ],
          "mesh3d": [
           {
            "colorbar": {
             "outlinewidth": 0,
             "ticks": ""
            },
            "type": "mesh3d"
           }
          ],
          "parcoords": [
           {
            "line": {
             "colorbar": {
              "outlinewidth": 0,
              "ticks": ""
             }
            },
            "type": "parcoords"
           }
          ],
          "pie": [
           {
            "automargin": true,
            "type": "pie"
           }
          ],
          "scatter": [
           {
            "marker": {
             "colorbar": {
              "outlinewidth": 0,
              "ticks": ""
             }
            },
            "type": "scatter"
           }
          ],
          "scatter3d": [
           {
            "line": {
             "colorbar": {
              "outlinewidth": 0,
              "ticks": ""
             }
            },
            "marker": {
             "colorbar": {
              "outlinewidth": 0,
              "ticks": ""
             }
            },
            "type": "scatter3d"
           }
          ],
          "scattercarpet": [
           {
            "marker": {
             "colorbar": {
              "outlinewidth": 0,
              "ticks": ""
             }
            },
            "type": "scattercarpet"
           }
          ],
          "scattergeo": [
           {
            "marker": {
             "colorbar": {
              "outlinewidth": 0,
              "ticks": ""
             }
            },
            "type": "scattergeo"
           }
          ],
          "scattergl": [
           {
            "marker": {
             "colorbar": {
              "outlinewidth": 0,
              "ticks": ""
             }
            },
            "type": "scattergl"
           }
          ],
          "scattermapbox": [
           {
            "marker": {
             "colorbar": {
              "outlinewidth": 0,
              "ticks": ""
             }
            },
            "type": "scattermapbox"
           }
          ],
          "scatterpolar": [
           {
            "marker": {
             "colorbar": {
              "outlinewidth": 0,
              "ticks": ""
             }
            },
            "type": "scatterpolar"
           }
          ],
          "scatterpolargl": [
           {
            "marker": {
             "colorbar": {
              "outlinewidth": 0,
              "ticks": ""
             }
            },
            "type": "scatterpolargl"
           }
          ],
          "scatterternary": [
           {
            "marker": {
             "colorbar": {
              "outlinewidth": 0,
              "ticks": ""
             }
            },
            "type": "scatterternary"
           }
          ],
          "surface": [
           {
            "colorbar": {
             "outlinewidth": 0,
             "ticks": ""
            },
            "colorscale": [
             [
              0,
              "#0d0887"
             ],
             [
              0.1111111111111111,
              "#46039f"
             ],
             [
              0.2222222222222222,
              "#7201a8"
             ],
             [
              0.3333333333333333,
              "#9c179e"
             ],
             [
              0.4444444444444444,
              "#bd3786"
             ],
             [
              0.5555555555555556,
              "#d8576b"
             ],
             [
              0.6666666666666666,
              "#ed7953"
             ],
             [
              0.7777777777777778,
              "#fb9f3a"
             ],
             [
              0.8888888888888888,
              "#fdca26"
             ],
             [
              1,
              "#f0f921"
             ]
            ],
            "type": "surface"
           }
          ],
          "table": [
           {
            "cells": {
             "fill": {
              "color": "#EBF0F8"
             },
             "line": {
              "color": "white"
             }
            },
            "header": {
             "fill": {
              "color": "#C8D4E3"
             },
             "line": {
              "color": "white"
             }
            },
            "type": "table"
           }
          ]
         },
         "layout": {
          "annotationdefaults": {
           "arrowcolor": "#2a3f5f",
           "arrowhead": 0,
           "arrowwidth": 1
          },
          "autotypenumbers": "strict",
          "coloraxis": {
           "colorbar": {
            "outlinewidth": 0,
            "ticks": ""
           }
          },
          "colorscale": {
           "diverging": [
            [
             0,
             "#8e0152"
            ],
            [
             0.1,
             "#c51b7d"
            ],
            [
             0.2,
             "#de77ae"
            ],
            [
             0.3,
             "#f1b6da"
            ],
            [
             0.4,
             "#fde0ef"
            ],
            [
             0.5,
             "#f7f7f7"
            ],
            [
             0.6,
             "#e6f5d0"
            ],
            [
             0.7,
             "#b8e186"
            ],
            [
             0.8,
             "#7fbc41"
            ],
            [
             0.9,
             "#4d9221"
            ],
            [
             1,
             "#276419"
            ]
           ],
           "sequential": [
            [
             0,
             "#0d0887"
            ],
            [
             0.1111111111111111,
             "#46039f"
            ],
            [
             0.2222222222222222,
             "#7201a8"
            ],
            [
             0.3333333333333333,
             "#9c179e"
            ],
            [
             0.4444444444444444,
             "#bd3786"
            ],
            [
             0.5555555555555556,
             "#d8576b"
            ],
            [
             0.6666666666666666,
             "#ed7953"
            ],
            [
             0.7777777777777778,
             "#fb9f3a"
            ],
            [
             0.8888888888888888,
             "#fdca26"
            ],
            [
             1,
             "#f0f921"
            ]
           ],
           "sequentialminus": [
            [
             0,
             "#0d0887"
            ],
            [
             0.1111111111111111,
             "#46039f"
            ],
            [
             0.2222222222222222,
             "#7201a8"
            ],
            [
             0.3333333333333333,
             "#9c179e"
            ],
            [
             0.4444444444444444,
             "#bd3786"
            ],
            [
             0.5555555555555556,
             "#d8576b"
            ],
            [
             0.6666666666666666,
             "#ed7953"
            ],
            [
             0.7777777777777778,
             "#fb9f3a"
            ],
            [
             0.8888888888888888,
             "#fdca26"
            ],
            [
             1,
             "#f0f921"
            ]
           ]
          },
          "colorway": [
           "#636efa",
           "#EF553B",
           "#00cc96",
           "#ab63fa",
           "#FFA15A",
           "#19d3f3",
           "#FF6692",
           "#B6E880",
           "#FF97FF",
           "#FECB52"
          ],
          "font": {
           "color": "#2a3f5f"
          },
          "geo": {
           "bgcolor": "white",
           "lakecolor": "white",
           "landcolor": "#E5ECF6",
           "showlakes": true,
           "showland": true,
           "subunitcolor": "white"
          },
          "hoverlabel": {
           "align": "left"
          },
          "hovermode": "closest",
          "mapbox": {
           "style": "light"
          },
          "paper_bgcolor": "white",
          "plot_bgcolor": "#E5ECF6",
          "polar": {
           "angularaxis": {
            "gridcolor": "white",
            "linecolor": "white",
            "ticks": ""
           },
           "bgcolor": "#E5ECF6",
           "radialaxis": {
            "gridcolor": "white",
            "linecolor": "white",
            "ticks": ""
           }
          },
          "scene": {
           "xaxis": {
            "backgroundcolor": "#E5ECF6",
            "gridcolor": "white",
            "gridwidth": 2,
            "linecolor": "white",
            "showbackground": true,
            "ticks": "",
            "zerolinecolor": "white"
           },
           "yaxis": {
            "backgroundcolor": "#E5ECF6",
            "gridcolor": "white",
            "gridwidth": 2,
            "linecolor": "white",
            "showbackground": true,
            "ticks": "",
            "zerolinecolor": "white"
           },
           "zaxis": {
            "backgroundcolor": "#E5ECF6",
            "gridcolor": "white",
            "gridwidth": 2,
            "linecolor": "white",
            "showbackground": true,
            "ticks": "",
            "zerolinecolor": "white"
           }
          },
          "shapedefaults": {
           "line": {
            "color": "#2a3f5f"
           }
          },
          "ternary": {
           "aaxis": {
            "gridcolor": "white",
            "linecolor": "white",
            "ticks": ""
           },
           "baxis": {
            "gridcolor": "white",
            "linecolor": "white",
            "ticks": ""
           },
           "bgcolor": "#E5ECF6",
           "caxis": {
            "gridcolor": "white",
            "linecolor": "white",
            "ticks": ""
           }
          },
          "title": {
           "x": 0.05
          },
          "xaxis": {
           "automargin": true,
           "gridcolor": "white",
           "linecolor": "white",
           "ticks": "",
           "title": {
            "standoff": 15
           },
           "zerolinecolor": "white",
           "zerolinewidth": 2
          },
          "yaxis": {
           "automargin": true,
           "gridcolor": "white",
           "linecolor": "white",
           "ticks": "",
           "title": {
            "standoff": 15
           },
           "zerolinecolor": "white",
           "zerolinewidth": 2
          }
         }
        },
        "xaxis": {
         "anchor": "y",
         "domain": [
          0,
          1
         ],
         "title": {
          "text": "States"
         }
        },
        "yaxis": {
         "anchor": "x",
         "domain": [
          0,
          1
         ],
         "title": {
          "text": "Total cases"
         }
        }
       }
      }
     },
     "metadata": {}
    }
   ],
   "source": [
    "px.bar(df , y = \"Total cases\", x = \"States\")"
   ]
  },
  {
   "cell_type": "code",
   "execution_count": 59,
   "metadata": {},
   "outputs": [
    {
     "output_type": "display_data",
     "data": {
      "application/vnd.plotly.v1+json": {
       "config": {
        "plotlyServerURL": "https://plot.ly"
       },
       "data": [
        {
         "hovertemplate": "Total cases=51,79,929<br>New cases (1 day*)=%{x}<br>deaths=%{y}<br>States=%{z}<extra></extra>",
         "legendgroup": "51,79,929",
         "marker": {
          "color": "#636efa",
          "symbol": "circle"
         },
         "mode": "markers",
         "name": "51,79,929",
         "scene": "scene",
         "showlegend": true,
         "type": "scatter3d",
         "x": [
          "40,956"
         ],
         "y": [
          "77,191"
         ],
         "z": [
          "Maharashtra"
         ]
        },
        {
         "hovertemplate": "Total cases=20,13,193<br>New cases (1 day*)=%{x}<br>deaths=%{y}<br>States=%{z}<extra></extra>",
         "legendgroup": "20,13,193",
         "marker": {
          "color": "#EF553B",
          "symbol": "circle"
         },
         "mode": "markers",
         "name": "20,13,193",
         "scene": "scene",
         "showlegend": true,
         "type": "scatter3d",
         "x": [
          "39,510"
         ],
         "y": [
          "19,852"
         ],
         "z": [
          "Karnataka"
         ]
        },
        {
         "hovertemplate": "Total cases=19,67,405<br>New cases (1 day*)=%{x}<br>deaths=%{y}<br>States=%{z}<extra></extra>",
         "legendgroup": "19,67,405",
         "marker": {
          "color": "#00cc96",
          "symbol": "circle"
         },
         "mode": "markers",
         "name": "19,67,405",
         "scene": "scene",
         "showlegend": true,
         "type": "scatter3d",
         "x": [
          "37,290"
         ],
         "y": [
          "5,958"
         ],
         "z": [
          "Kerala"
         ]
        },
        {
         "hovertemplate": "Total cases=15,45,212<br>New cases (1 day*)=%{x}<br>deaths=%{y}<br>States=%{z}<extra></extra>",
         "legendgroup": "15,45,212",
         "marker": {
          "color": "#ab63fa",
          "symbol": "circle"
         },
         "mode": "markers",
         "name": "15,45,212",
         "scene": "scene",
         "showlegend": true,
         "type": "scatter3d",
         "x": [
          "20,445"
         ],
         "y": [
          "16,043"
         ],
         "z": [
          "Uttar Pradesh"
         ]
        },
        {
         "hovertemplate": "Total cases=14,38,509<br>New cases (1 day*)=%{x}<br>deaths=%{y}<br>States=%{z}<extra></extra>",
         "legendgroup": "14,38,509",
         "marker": {
          "color": "#FFA15A",
          "symbol": "circle"
         },
         "mode": "markers",
         "name": "14,38,509",
         "scene": "scene",
         "showlegend": true,
         "type": "scatter3d",
         "x": [
          "29,272"
         ],
         "y": [
          "16,178"
         ],
         "z": [
          "Tamil Nadu"
         ]
        },
        {
         "hovertemplate": "Total cases=13,48,699<br>New cases (1 day*)=%{x}<br>deaths=%{y}<br>States=%{z}<extra></extra>",
         "legendgroup": "13,48,699",
         "marker": {
          "color": "#19d3f3",
          "symbol": "circle"
         },
         "mode": "markers",
         "name": "13,48,699",
         "scene": "scene",
         "showlegend": true,
         "type": "scatter3d",
         "x": [
          "12,481"
         ],
         "y": [
          "20,010"
         ],
         "z": [
          "Delhi"
         ]
        },
        {
         "hovertemplate": "Total cases=13,22,934<br>New cases (1 day*)=%{x}<br>deaths=%{y}<br>States=%{z}<extra></extra>",
         "legendgroup": "13,22,934",
         "marker": {
          "color": "#FF6692",
          "symbol": "circle"
         },
         "mode": "markers",
         "name": "13,22,934",
         "scene": "scene",
         "showlegend": true,
         "type": "scatter3d",
         "x": [
          "20,345"
         ],
         "y": [
          "8,899"
         ],
         "z": [
          "Andhra Pradesh"
         ]
        },
        {
         "hovertemplate": "Total cases=10,32,740<br>New cases (1 day*)=%{x}<br>deaths=%{y}<br>States=%{z}<extra></extra>",
         "legendgroup": "10,32,740",
         "marker": {
          "color": "#B6E880",
          "symbol": "circle"
         },
         "mode": "markers",
         "name": "10,32,740",
         "scene": "scene",
         "showlegend": true,
         "type": "scatter3d",
         "x": [
          "20,136"
         ],
         "y": [
          "12,593"
         ],
         "z": [
          "West Bengal"
         ]
        },
        {
         "hovertemplate": "Total cases=8,73,060<br>New cases (1 day*)=%{x}<br>deaths=%{y}<br>States=%{z}<extra></extra>",
         "legendgroup": "8,73,060",
         "marker": {
          "color": "#FF97FF",
          "symbol": "circle"
         },
         "mode": "markers",
         "name": "8,73,060",
         "scene": "scene",
         "showlegend": true,
         "type": "scatter3d",
         "x": [
          "9,717"
         ],
         "y": [
          "10,941"
         ],
         "z": [
          "Chhattisgarh"
         ]
        },
        {
         "hovertemplate": "Total cases=7,89,274<br>New cases (1 day*)=%{x}<br>deaths=%{y}<br>States=%{z}<extra></extra>",
         "legendgroup": "7,89,274",
         "marker": {
          "color": "#FECB52",
          "symbol": "circle"
         },
         "mode": "markers",
         "name": "7,89,274",
         "scene": "scene",
         "showlegend": true,
         "type": "scatter3d",
         "x": [
          "16,080"
         ],
         "y": [
          "5,994"
         ],
         "z": [
          "Rajasthan"
         ]
        },
        {
         "hovertemplate": "Total cases=7,03,594<br>New cases (1 day*)=%{x}<br>deaths=%{y}<br>States=%{z}<extra></extra>",
         "legendgroup": "7,03,594",
         "marker": {
          "color": "#636efa",
          "symbol": "circle"
         },
         "mode": "markers",
         "name": "7,03,594",
         "scene": "scene",
         "showlegend": true,
         "type": "scatter3d",
         "x": [
          "10,990"
         ],
         "y": [
          "8,629"
         ],
         "z": [
          "Gujarat"
         ]
        },
        {
         "hovertemplate": "Total cases=6,91,232<br>New cases (1 day*)=%{x}<br>deaths=%{y}<br>States=%{z}<extra></extra>",
         "legendgroup": "6,91,232",
         "marker": {
          "color": "#EF553B",
          "symbol": "circle"
         },
         "mode": "markers",
         "name": "6,91,232",
         "scene": "scene",
         "showlegend": true,
         "type": "scatter3d",
         "x": [
          "9,754"
         ],
         "y": [
          "6,595"
         ],
         "z": [
          "Madhya Pradesh"
         ]
        },
        {
         "hovertemplate": "Total cases=6,40,252<br>New cases (1 day*)=%{x}<br>deaths=%{y}<br>States=%{z}<extra></extra>",
         "legendgroup": "6,40,252",
         "marker": {
          "color": "#00cc96",
          "symbol": "circle"
         },
         "mode": "markers",
         "name": "6,40,252",
         "scene": "scene",
         "showlegend": true,
         "type": "scatter3d",
         "x": [
          "11,637"
         ],
         "y": [
          "5,910"
         ],
         "z": [
          "Haryana"
         ]
        },
        {
         "hovertemplate": "Total cases=6,12,570<br>New cases (1 day*)=%{x}<br>deaths=%{y}<br>States=%{z}<extra></extra>",
         "legendgroup": "6,12,570",
         "marker": {
          "color": "#ab63fa",
          "symbol": "circle"
         },
         "mode": "markers",
         "name": "6,12,570",
         "scene": "scene",
         "showlegend": true,
         "type": "scatter3d",
         "x": [
          "10,920"
         ],
         "y": [
          "3,429"
         ],
         "z": [
          "Bihar"
         ]
        },
        {
         "hovertemplate": "Total cases=5,54,666<br>New cases (1 day*)=%{x}<br>deaths=%{y}<br>States=%{z}<extra></extra>",
         "legendgroup": "5,54,666",
         "marker": {
          "color": "#FFA15A",
          "symbol": "circle"
         },
         "mode": "markers",
         "name": "5,54,666",
         "scene": "scene",
         "showlegend": true,
         "type": "scatter3d",
         "x": [
          "9,793"
         ],
         "y": [
          "2,215"
         ],
         "z": [
          "Odisha"
         ]
        },
        {
         "hovertemplate": "Total cases=5,06,988<br>New cases (1 day*)=%{x}<br>deaths=%{y}<br>States=%{z}<extra></extra>",
         "legendgroup": "5,06,988",
         "marker": {
          "color": "#19d3f3",
          "symbol": "circle"
         },
         "mode": "markers",
         "name": "5,06,988",
         "scene": "scene",
         "showlegend": true,
         "type": "scatter3d",
         "x": [
          "4,801"
         ],
         "y": [
          "2,803"
         ],
         "z": [
          "Telangana"
         ]
        },
        {
         "hovertemplate": "Total cases=4,59,268<br>New cases (1 day*)=%{x}<br>deaths=%{y}<br>States=%{z}<extra></extra>",
         "legendgroup": "4,59,268",
         "marker": {
          "color": "#FF6692",
          "symbol": "circle"
         },
         "mode": "markers",
         "name": "4,59,268",
         "scene": "scene",
         "showlegend": true,
         "type": "scatter3d",
         "x": [
          "8,594"
         ],
         "y": [
          "10,918"
         ],
         "z": [
          "Punjab"
         ]
        },
        {
         "hovertemplate": "Total cases=3,04,429<br>New cases (1 day*)=%{x}<br>deaths=%{y}<br>States=%{z}<extra></extra>",
         "legendgroup": "3,04,429",
         "marker": {
          "color": "#B6E880",
          "symbol": "circle"
         },
         "mode": "markers",
         "name": "3,04,429",
         "scene": "scene",
         "showlegend": true,
         "type": "scatter3d",
         "x": [
          "6,258"
         ],
         "y": [
          "1,838"
         ],
         "z": [
          "Assam"
         ]
        },
        {
         "hovertemplate": "Total cases=2,96,895<br>New cases (1 day*)=%{x}<br>deaths=%{y}<br>States=%{z}<extra></extra>",
         "legendgroup": "2,96,895",
         "marker": {
          "color": "#FF97FF",
          "symbol": "circle"
         },
         "mode": "markers",
         "name": "2,96,895",
         "scene": "scene",
         "showlegend": true,
         "type": "scatter3d",
         "x": [
          "4,365"
         ],
         "y": [
          "4,085"
         ],
         "z": [
          "Jharkhand"
         ]
        },
        {
         "hovertemplate": "Total cases=2,56,934<br>New cases (1 day*)=%{x}<br>deaths=%{y}<br>States=%{z}<extra></extra>",
         "legendgroup": "2,56,934",
         "marker": {
          "color": "#FECB52",
          "symbol": "circle"
         },
         "mode": "markers",
         "name": "2,56,934",
         "scene": "scene",
         "showlegend": true,
         "type": "scatter3d",
         "x": [
          "7,120"
         ],
         "y": [
          "4,014"
         ],
         "z": [
          "Uttarakhand"
         ]
        },
        {
         "hovertemplate": "Total cases=2,24,898<br>New cases (1 day*)=%{x}<br>deaths=%{y}<br>States=%{z}<extra></extra>",
         "legendgroup": "2,24,898",
         "marker": {
          "color": "#636efa",
          "symbol": "circle"
         },
         "mode": "markers",
         "name": "2,24,898",
         "scene": "scene",
         "showlegend": true,
         "type": "scatter3d",
         "x": [
          "4,352"
         ],
         "y": [
          "2,847"
         ],
         "z": [
          "Jammu and Kashmir"
         ]
        },
        {
         "hovertemplate": "Total cases=1,40,759<br>New cases (1 day*)=%{x}<br>deaths=%{y}<br>States=%{z}<extra></extra>",
         "legendgroup": "1,40,759",
         "marker": {
          "color": "#EF553B",
          "symbol": "circle"
         },
         "mode": "markers",
         "name": "1,40,759",
         "scene": "scene",
         "showlegend": true,
         "type": "scatter3d",
         "x": [
          "4,977"
         ],
         "y": [
          "2,002"
         ],
         "z": [
          "Himachal Pradesh"
         ]
        },
        {
         "hovertemplate": "Total cases=1,24,774<br>New cases (1 day*)=%{x}<br>deaths=%{y}<br>States=%{z}<extra></extra>",
         "legendgroup": "1,24,774",
         "marker": {
          "color": "#00cc96",
          "symbol": "circle"
         },
         "mode": "markers",
         "name": "1,24,774",
         "scene": "scene",
         "showlegend": true,
         "type": "scatter3d",
         "x": [
          "3,124"
         ],
         "y": [
          "1,804"
         ],
         "z": [
          "Goa"
         ]
        },
        {
         "hovertemplate": "Total cases=75,024<br>New cases (1 day*)=%{x}<br>deaths=%{y}<br>States=%{z}<extra></extra>",
         "legendgroup": "75,024",
         "marker": {
          "color": "#ab63fa",
          "symbol": "circle"
         },
         "mode": "markers",
         "name": "75,024",
         "scene": "scene",
         "showlegend": true,
         "type": "scatter3d",
         "x": [
          "2,049"
         ],
         "y": [
          "1,018"
         ],
         "z": [
          "Puducherry"
         ]
        },
        {
         "hovertemplate": "Total cases=51,857<br>New cases (1 day*)=%{x}<br>deaths=%{y}<br>States=%{z}<extra></extra>",
         "legendgroup": "51,857",
         "marker": {
          "color": "#FFA15A",
          "symbol": "circle"
         },
         "mode": "markers",
         "name": "51,857",
         "scene": "scene",
         "showlegend": true,
         "type": "scatter3d",
         "x": [
          "787"
         ],
         "y": [
          "585"
         ],
         "z": [
          "Chandigarh"
         ]
        },
        {
         "hovertemplate": "Total cases=38,574<br>New cases (1 day*)=%{x}<br>deaths=%{y}<br>States=%{z}<extra></extra>",
         "legendgroup": "38,574",
         "marker": {
          "color": "#19d3f3",
          "symbol": "circle"
         },
         "mode": "markers",
         "name": "38,574",
         "scene": "scene",
         "showlegend": true,
         "type": "scatter3d",
         "x": [
          "416"
         ],
         "y": [
          "422"
         ],
         "z": [
          "Tripura"
         ]
        },
        {
         "hovertemplate": "Total cases=36,370<br>New cases (1 day*)=%{x}<br>deaths=%{y}<br>States=%{z}<extra></extra>",
         "legendgroup": "36,370",
         "marker": {
          "color": "#FF6692",
          "symbol": "circle"
         },
         "mode": "markers",
         "name": "36,370",
         "scene": "scene",
         "showlegend": true,
         "type": "scatter3d",
         "x": [
          "592"
         ],
         "y": [
          "509"
         ],
         "z": [
          "Manipur"
         ]
        },
        {
         "hovertemplate": "Total cases=20,579<br>New cases (1 day*)=%{x}<br>deaths=%{y}<br>States=%{z}<extra></extra>",
         "legendgroup": "20,579",
         "marker": {
          "color": "#B6E880",
          "symbol": "circle"
         },
         "mode": "markers",
         "name": "20,579",
         "scene": "scene",
         "showlegend": true,
         "type": "scatter3d",
         "x": [
          "450"
         ],
         "y": [
          "242"
         ],
         "z": [
          "Meghalaya"
         ]
        },
        {
         "hovertemplate": "Total cases=20,575<br>New cases (1 day*)=%{x}<br>deaths=%{y}<br>States=%{z}<extra></extra>",
         "legendgroup": "20,575",
         "marker": {
          "color": "#FF97FF",
          "symbol": "circle"
         },
         "mode": "markers",
         "name": "20,575",
         "scene": "scene",
         "showlegend": true,
         "type": "scatter3d",
         "x": [
          "205"
         ],
         "y": [
          "68"
         ],
         "z": [
          "Arunachal Pradesh"
         ]
        },
        {
         "hovertemplate": "Total cases=16,552<br>New cases (1 day*)=%{x}<br>deaths=%{y}<br>States=%{z}<extra></extra>",
         "legendgroup": "16,552",
         "marker": {
          "color": "#FECB52",
          "symbol": "circle"
         },
         "mode": "markers",
         "name": "16,552",
         "scene": "scene",
         "showlegend": true,
         "type": "scatter3d",
         "x": [
          "269"
         ],
         "y": [
          "156"
         ],
         "z": [
          "Nagaland"
         ]
        },
        {
         "hovertemplate": "Total cases=15,564<br>New cases (1 day*)=%{x}<br>deaths=%{y}<br>States=%{z}<extra></extra>",
         "legendgroup": "15,564",
         "marker": {
          "color": "#636efa",
          "symbol": "circle"
         },
         "mode": "markers",
         "name": "15,564",
         "scene": "scene",
         "showlegend": true,
         "type": "scatter3d",
         "x": [
          "135"
         ],
         "y": [
          "157"
         ],
         "z": [
          "Ladakh"
         ]
        },
        {
         "hovertemplate": "Total cases=10,165<br>New cases (1 day*)=%{x}<br>deaths=%{y}<br>States=%{z}<extra></extra>",
         "legendgroup": "10,165",
         "marker": {
          "color": "#EF553B",
          "symbol": "circle"
         },
         "mode": "markers",
         "name": "10,165",
         "scene": "scene",
         "showlegend": true,
         "type": "scatter3d",
         "x": [
          "241"
         ],
         "y": [
          "177"
         ],
         "z": [
          "Sikkim"
         ]
        },
        {
         "hovertemplate": "Total cases=9,021<br>New cases (1 day*)=%{x}<br>deaths=%{y}<br>States=%{z}<extra></extra>",
         "legendgroup": "9,021",
         "marker": {
          "color": "#00cc96",
          "symbol": "circle"
         },
         "mode": "markers",
         "name": "9,021",
         "scene": "scene",
         "showlegend": true,
         "type": "scatter3d",
         "x": [
          "93"
         ],
         "y": [
          "4"
         ],
         "z": [
          "Dadra and Nagar Haveli and Daman and Diu"
         ]
        },
        {
         "hovertemplate": "Total cases=8,035<br>New cases (1 day*)=%{x}<br>deaths=%{y}<br>States=%{z}<extra></extra>",
         "legendgroup": "8,035",
         "marker": {
          "color": "#ab63fa",
          "symbol": "circle"
         },
         "mode": "markers",
         "name": "8,035",
         "scene": "scene",
         "showlegend": true,
         "type": "scatter3d",
         "x": [
          "239"
         ],
         "y": [
          "23"
         ],
         "z": [
          "Mizoram"
         ]
        },
        {
         "hovertemplate": "Total cases=6,426<br>New cases (1 day*)=%{x}<br>deaths=%{y}<br>States=%{z}<extra></extra>",
         "legendgroup": "6,426",
         "marker": {
          "color": "#FFA15A",
          "symbol": "circle"
         },
         "mode": "markers",
         "name": "6,426",
         "scene": "scene",
         "showlegend": true,
         "type": "scatter3d",
         "x": [
          "28"
         ],
         "y": [
          "78"
         ],
         "z": [
          "Andaman and Nicobar Islands"
         ]
        },
        {
         "hovertemplate": "Total cases=3,982<br>New cases (1 day*)=%{x}<br>deaths=%{y}<br>States=%{z}<extra></extra>",
         "legendgroup": "3,982",
         "marker": {
          "color": "#19d3f3",
          "symbol": "circle"
         },
         "mode": "markers",
         "name": "3,982",
         "scene": "scene",
         "showlegend": true,
         "type": "scatter3d",
         "x": [
          "101"
         ],
         "y": [
          "10"
         ],
         "z": [
          "Lakshadweep"
         ]
        }
       ],
       "layout": {
        "legend": {
         "title": {
          "text": "Total cases"
         },
         "tracegroupgap": 0
        },
        "margin": {
         "t": 60
        },
        "scene": {
         "domain": {
          "x": [
           0,
           1
          ],
          "y": [
           0,
           1
          ]
         },
         "xaxis": {
          "title": {
           "text": "New cases (1 day*)"
          }
         },
         "yaxis": {
          "title": {
           "text": "deaths"
          }
         },
         "zaxis": {
          "title": {
           "text": "States"
          }
         }
        },
        "template": {
         "data": {
          "bar": [
           {
            "error_x": {
             "color": "#2a3f5f"
            },
            "error_y": {
             "color": "#2a3f5f"
            },
            "marker": {
             "line": {
              "color": "#E5ECF6",
              "width": 0.5
             }
            },
            "type": "bar"
           }
          ],
          "barpolar": [
           {
            "marker": {
             "line": {
              "color": "#E5ECF6",
              "width": 0.5
             }
            },
            "type": "barpolar"
           }
          ],
          "carpet": [
           {
            "aaxis": {
             "endlinecolor": "#2a3f5f",
             "gridcolor": "white",
             "linecolor": "white",
             "minorgridcolor": "white",
             "startlinecolor": "#2a3f5f"
            },
            "baxis": {
             "endlinecolor": "#2a3f5f",
             "gridcolor": "white",
             "linecolor": "white",
             "minorgridcolor": "white",
             "startlinecolor": "#2a3f5f"
            },
            "type": "carpet"
           }
          ],
          "choropleth": [
           {
            "colorbar": {
             "outlinewidth": 0,
             "ticks": ""
            },
            "type": "choropleth"
           }
          ],
          "contour": [
           {
            "colorbar": {
             "outlinewidth": 0,
             "ticks": ""
            },
            "colorscale": [
             [
              0,
              "#0d0887"
             ],
             [
              0.1111111111111111,
              "#46039f"
             ],
             [
              0.2222222222222222,
              "#7201a8"
             ],
             [
              0.3333333333333333,
              "#9c179e"
             ],
             [
              0.4444444444444444,
              "#bd3786"
             ],
             [
              0.5555555555555556,
              "#d8576b"
             ],
             [
              0.6666666666666666,
              "#ed7953"
             ],
             [
              0.7777777777777778,
              "#fb9f3a"
             ],
             [
              0.8888888888888888,
              "#fdca26"
             ],
             [
              1,
              "#f0f921"
             ]
            ],
            "type": "contour"
           }
          ],
          "contourcarpet": [
           {
            "colorbar": {
             "outlinewidth": 0,
             "ticks": ""
            },
            "type": "contourcarpet"
           }
          ],
          "heatmap": [
           {
            "colorbar": {
             "outlinewidth": 0,
             "ticks": ""
            },
            "colorscale": [
             [
              0,
              "#0d0887"
             ],
             [
              0.1111111111111111,
              "#46039f"
             ],
             [
              0.2222222222222222,
              "#7201a8"
             ],
             [
              0.3333333333333333,
              "#9c179e"
             ],
             [
              0.4444444444444444,
              "#bd3786"
             ],
             [
              0.5555555555555556,
              "#d8576b"
             ],
             [
              0.6666666666666666,
              "#ed7953"
             ],
             [
              0.7777777777777778,
              "#fb9f3a"
             ],
             [
              0.8888888888888888,
              "#fdca26"
             ],
             [
              1,
              "#f0f921"
             ]
            ],
            "type": "heatmap"
           }
          ],
          "heatmapgl": [
           {
            "colorbar": {
             "outlinewidth": 0,
             "ticks": ""
            },
            "colorscale": [
             [
              0,
              "#0d0887"
             ],
             [
              0.1111111111111111,
              "#46039f"
             ],
             [
              0.2222222222222222,
              "#7201a8"
             ],
             [
              0.3333333333333333,
              "#9c179e"
             ],
             [
              0.4444444444444444,
              "#bd3786"
             ],
             [
              0.5555555555555556,
              "#d8576b"
             ],
             [
              0.6666666666666666,
              "#ed7953"
             ],
             [
              0.7777777777777778,
              "#fb9f3a"
             ],
             [
              0.8888888888888888,
              "#fdca26"
             ],
             [
              1,
              "#f0f921"
             ]
            ],
            "type": "heatmapgl"
           }
          ],
          "histogram": [
           {
            "marker": {
             "colorbar": {
              "outlinewidth": 0,
              "ticks": ""
             }
            },
            "type": "histogram"
           }
          ],
          "histogram2d": [
           {
            "colorbar": {
             "outlinewidth": 0,
             "ticks": ""
            },
            "colorscale": [
             [
              0,
              "#0d0887"
             ],
             [
              0.1111111111111111,
              "#46039f"
             ],
             [
              0.2222222222222222,
              "#7201a8"
             ],
             [
              0.3333333333333333,
              "#9c179e"
             ],
             [
              0.4444444444444444,
              "#bd3786"
             ],
             [
              0.5555555555555556,
              "#d8576b"
             ],
             [
              0.6666666666666666,
              "#ed7953"
             ],
             [
              0.7777777777777778,
              "#fb9f3a"
             ],
             [
              0.8888888888888888,
              "#fdca26"
             ],
             [
              1,
              "#f0f921"
             ]
            ],
            "type": "histogram2d"
           }
          ],
          "histogram2dcontour": [
           {
            "colorbar": {
             "outlinewidth": 0,
             "ticks": ""
            },
            "colorscale": [
             [
              0,
              "#0d0887"
             ],
             [
              0.1111111111111111,
              "#46039f"
             ],
             [
              0.2222222222222222,
              "#7201a8"
             ],
             [
              0.3333333333333333,
              "#9c179e"
             ],
             [
              0.4444444444444444,
              "#bd3786"
             ],
             [
              0.5555555555555556,
              "#d8576b"
             ],
             [
              0.6666666666666666,
              "#ed7953"
             ],
             [
              0.7777777777777778,
              "#fb9f3a"
             ],
             [
              0.8888888888888888,
              "#fdca26"
             ],
             [
              1,
              "#f0f921"
             ]
            ],
            "type": "histogram2dcontour"
           }
          ],
          "mesh3d": [
           {
            "colorbar": {
             "outlinewidth": 0,
             "ticks": ""
            },
            "type": "mesh3d"
           }
          ],
          "parcoords": [
           {
            "line": {
             "colorbar": {
              "outlinewidth": 0,
              "ticks": ""
             }
            },
            "type": "parcoords"
           }
          ],
          "pie": [
           {
            "automargin": true,
            "type": "pie"
           }
          ],
          "scatter": [
           {
            "marker": {
             "colorbar": {
              "outlinewidth": 0,
              "ticks": ""
             }
            },
            "type": "scatter"
           }
          ],
          "scatter3d": [
           {
            "line": {
             "colorbar": {
              "outlinewidth": 0,
              "ticks": ""
             }
            },
            "marker": {
             "colorbar": {
              "outlinewidth": 0,
              "ticks": ""
             }
            },
            "type": "scatter3d"
           }
          ],
          "scattercarpet": [
           {
            "marker": {
             "colorbar": {
              "outlinewidth": 0,
              "ticks": ""
             }
            },
            "type": "scattercarpet"
           }
          ],
          "scattergeo": [
           {
            "marker": {
             "colorbar": {
              "outlinewidth": 0,
              "ticks": ""
             }
            },
            "type": "scattergeo"
           }
          ],
          "scattergl": [
           {
            "marker": {
             "colorbar": {
              "outlinewidth": 0,
              "ticks": ""
             }
            },
            "type": "scattergl"
           }
          ],
          "scattermapbox": [
           {
            "marker": {
             "colorbar": {
              "outlinewidth": 0,
              "ticks": ""
             }
            },
            "type": "scattermapbox"
           }
          ],
          "scatterpolar": [
           {
            "marker": {
             "colorbar": {
              "outlinewidth": 0,
              "ticks": ""
             }
            },
            "type": "scatterpolar"
           }
          ],
          "scatterpolargl": [
           {
            "marker": {
             "colorbar": {
              "outlinewidth": 0,
              "ticks": ""
             }
            },
            "type": "scatterpolargl"
           }
          ],
          "scatterternary": [
           {
            "marker": {
             "colorbar": {
              "outlinewidth": 0,
              "ticks": ""
             }
            },
            "type": "scatterternary"
           }
          ],
          "surface": [
           {
            "colorbar": {
             "outlinewidth": 0,
             "ticks": ""
            },
            "colorscale": [
             [
              0,
              "#0d0887"
             ],
             [
              0.1111111111111111,
              "#46039f"
             ],
             [
              0.2222222222222222,
              "#7201a8"
             ],
             [
              0.3333333333333333,
              "#9c179e"
             ],
             [
              0.4444444444444444,
              "#bd3786"
             ],
             [
              0.5555555555555556,
              "#d8576b"
             ],
             [
              0.6666666666666666,
              "#ed7953"
             ],
             [
              0.7777777777777778,
              "#fb9f3a"
             ],
             [
              0.8888888888888888,
              "#fdca26"
             ],
             [
              1,
              "#f0f921"
             ]
            ],
            "type": "surface"
           }
          ],
          "table": [
           {
            "cells": {
             "fill": {
              "color": "#EBF0F8"
             },
             "line": {
              "color": "white"
             }
            },
            "header": {
             "fill": {
              "color": "#C8D4E3"
             },
             "line": {
              "color": "white"
             }
            },
            "type": "table"
           }
          ]
         },
         "layout": {
          "annotationdefaults": {
           "arrowcolor": "#2a3f5f",
           "arrowhead": 0,
           "arrowwidth": 1
          },
          "autotypenumbers": "strict",
          "coloraxis": {
           "colorbar": {
            "outlinewidth": 0,
            "ticks": ""
           }
          },
          "colorscale": {
           "diverging": [
            [
             0,
             "#8e0152"
            ],
            [
             0.1,
             "#c51b7d"
            ],
            [
             0.2,
             "#de77ae"
            ],
            [
             0.3,
             "#f1b6da"
            ],
            [
             0.4,
             "#fde0ef"
            ],
            [
             0.5,
             "#f7f7f7"
            ],
            [
             0.6,
             "#e6f5d0"
            ],
            [
             0.7,
             "#b8e186"
            ],
            [
             0.8,
             "#7fbc41"
            ],
            [
             0.9,
             "#4d9221"
            ],
            [
             1,
             "#276419"
            ]
           ],
           "sequential": [
            [
             0,
             "#0d0887"
            ],
            [
             0.1111111111111111,
             "#46039f"
            ],
            [
             0.2222222222222222,
             "#7201a8"
            ],
            [
             0.3333333333333333,
             "#9c179e"
            ],
            [
             0.4444444444444444,
             "#bd3786"
            ],
            [
             0.5555555555555556,
             "#d8576b"
            ],
            [
             0.6666666666666666,
             "#ed7953"
            ],
            [
             0.7777777777777778,
             "#fb9f3a"
            ],
            [
             0.8888888888888888,
             "#fdca26"
            ],
            [
             1,
             "#f0f921"
            ]
           ],
           "sequentialminus": [
            [
             0,
             "#0d0887"
            ],
            [
             0.1111111111111111,
             "#46039f"
            ],
            [
             0.2222222222222222,
             "#7201a8"
            ],
            [
             0.3333333333333333,
             "#9c179e"
            ],
            [
             0.4444444444444444,
             "#bd3786"
            ],
            [
             0.5555555555555556,
             "#d8576b"
            ],
            [
             0.6666666666666666,
             "#ed7953"
            ],
            [
             0.7777777777777778,
             "#fb9f3a"
            ],
            [
             0.8888888888888888,
             "#fdca26"
            ],
            [
             1,
             "#f0f921"
            ]
           ]
          },
          "colorway": [
           "#636efa",
           "#EF553B",
           "#00cc96",
           "#ab63fa",
           "#FFA15A",
           "#19d3f3",
           "#FF6692",
           "#B6E880",
           "#FF97FF",
           "#FECB52"
          ],
          "font": {
           "color": "#2a3f5f"
          },
          "geo": {
           "bgcolor": "white",
           "lakecolor": "white",
           "landcolor": "#E5ECF6",
           "showlakes": true,
           "showland": true,
           "subunitcolor": "white"
          },
          "hoverlabel": {
           "align": "left"
          },
          "hovermode": "closest",
          "mapbox": {
           "style": "light"
          },
          "paper_bgcolor": "white",
          "plot_bgcolor": "#E5ECF6",
          "polar": {
           "angularaxis": {
            "gridcolor": "white",
            "linecolor": "white",
            "ticks": ""
           },
           "bgcolor": "#E5ECF6",
           "radialaxis": {
            "gridcolor": "white",
            "linecolor": "white",
            "ticks": ""
           }
          },
          "scene": {
           "xaxis": {
            "backgroundcolor": "#E5ECF6",
            "gridcolor": "white",
            "gridwidth": 2,
            "linecolor": "white",
            "showbackground": true,
            "ticks": "",
            "zerolinecolor": "white"
           },
           "yaxis": {
            "backgroundcolor": "#E5ECF6",
            "gridcolor": "white",
            "gridwidth": 2,
            "linecolor": "white",
            "showbackground": true,
            "ticks": "",
            "zerolinecolor": "white"
           },
           "zaxis": {
            "backgroundcolor": "#E5ECF6",
            "gridcolor": "white",
            "gridwidth": 2,
            "linecolor": "white",
            "showbackground": true,
            "ticks": "",
            "zerolinecolor": "white"
           }
          },
          "shapedefaults": {
           "line": {
            "color": "#2a3f5f"
           }
          },
          "ternary": {
           "aaxis": {
            "gridcolor": "white",
            "linecolor": "white",
            "ticks": ""
           },
           "baxis": {
            "gridcolor": "white",
            "linecolor": "white",
            "ticks": ""
           },
           "bgcolor": "#E5ECF6",
           "caxis": {
            "gridcolor": "white",
            "linecolor": "white",
            "ticks": ""
           }
          },
          "title": {
           "x": 0.05
          },
          "xaxis": {
           "automargin": true,
           "gridcolor": "white",
           "linecolor": "white",
           "ticks": "",
           "title": {
            "standoff": 15
           },
           "zerolinecolor": "white",
           "zerolinewidth": 2
          },
          "yaxis": {
           "automargin": true,
           "gridcolor": "white",
           "linecolor": "white",
           "ticks": "",
           "title": {
            "standoff": 15
           },
           "zerolinecolor": "white",
           "zerolinewidth": 2
          }
         }
        }
       }
      }
     },
     "metadata": {}
    }
   ],
   "source": [
    "px.scatter_3d(df , y = \"deaths\", x = \"New cases (1 day*)\", z=\"States\", color=\"Total cases\" )"
   ]
  },
  {
   "cell_type": "code",
   "execution_count": null,
   "metadata": {},
   "outputs": [],
   "source": []
  },
  {
   "cell_type": "code",
   "execution_count": null,
   "metadata": {},
   "outputs": [],
   "source": []
  }
 ]
}